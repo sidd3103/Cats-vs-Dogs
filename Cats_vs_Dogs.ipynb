{
  "nbformat": 4,
  "nbformat_minor": 0,
  "metadata": {
    "colab": {
      "name": "Cats-vs-Dogs.ipynb",
      "provenance": [],
      "collapsed_sections": [],
      "authorship_tag": "ABX9TyPzf8pfPqGpsAO+DlzC3A7s",
      "include_colab_link": true
    },
    "kernelspec": {
      "name": "python3",
      "display_name": "Python 3"
    },
    "accelerator": "GPU"
  },
  "cells": [
    {
      "cell_type": "markdown",
      "metadata": {
        "id": "view-in-github",
        "colab_type": "text"
      },
      "source": [
        "<a href=\"https://colab.research.google.com/github/sidd3103/Cats-vs-Dogs/blob/master/Cats_vs_Dogs.ipynb\" target=\"_parent\"><img src=\"https://colab.research.google.com/assets/colab-badge.svg\" alt=\"Open In Colab\"/></a>"
      ]
    },
    {
      "cell_type": "markdown",
      "metadata": {
        "id": "a91D7K0EN_Oq",
        "colab_type": "text"
      },
      "source": [
        "# **Dog or Cat**?\n",
        "In this notebook, I will create a neural network that determines whether an image is of a cat or a dog. The dataset I use is taken from Kaggle, and I only use 10% of the 20000 images to create my model. \n",
        "\n",
        "Created by : Siddharth Mittal"
      ]
    },
    {
      "cell_type": "code",
      "metadata": {
        "id": "VaaHSWEyU4dv",
        "colab_type": "code",
        "colab": {}
      },
      "source": [
        "import os\n",
        "import zipfile\n",
        "import shutil"
      ],
      "execution_count": null,
      "outputs": []
    },
    {
      "cell_type": "markdown",
      "metadata": {
        "id": "ktN1exD3njUb",
        "colab_type": "text"
      },
      "source": [
        "First we need to get the zip files containing the training,validation and testing images from github. We do that by using !git clone"
      ]
    },
    {
      "cell_type": "code",
      "metadata": {
        "id": "JWA5wZhjnh8B",
        "colab_type": "code",
        "colab": {
          "base_uri": "https://localhost:8080/",
          "height": 85
        },
        "outputId": "c59a50e9-b273-4586-a33f-91a8776d8f7b"
      },
      "source": [
        "!git clone https://github.com/sidd3103/Cats-vs-Dogs.git"
      ],
      "execution_count": null,
      "outputs": [
        {
          "output_type": "stream",
          "text": [
            "Cloning into 'Cats-vs-Dogs'...\n",
            "remote: Enumerating objects: 10, done.\u001b[K\n",
            "remote: Total 10 (delta 0), reused 0 (delta 0), pack-reused 10\u001b[K\n",
            "Unpacking objects: 100% (10/10), done.\n"
          ],
          "name": "stdout"
        }
      ]
    },
    {
      "cell_type": "markdown",
      "metadata": {
        "id": "_EMwe0Jw7UVT",
        "colab_type": "text"
      },
      "source": [
        "Next, we unzip the files, delete the __MACOSX files and .DS_Store files that are created and hidden when we zip files on mac. We do all this using the OS, Shutil libraries."
      ]
    },
    {
      "cell_type": "code",
      "metadata": {
        "id": "H9xZnAbZYhRj",
        "colab_type": "code",
        "colab": {}
      },
      "source": [
        "local_zip = 'Cats-vs-Dogs/train.zip'\n",
        "zip_ref = zipfile.ZipFile(local_zip,'r')\n",
        "zip_ref.extractall('Cats-vs-Dogs/train')\n",
        "zip_ref.close()\n",
        "shutil.rmtree('Cats-vs-Dogs/train/__MACOSX')"
      ],
      "execution_count": null,
      "outputs": []
    },
    {
      "cell_type": "code",
      "metadata": {
        "id": "LeQjgy2kZsg_",
        "colab_type": "code",
        "colab": {}
      },
      "source": [
        "local_zip = 'Cats-vs-Dogs/validation.zip'\n",
        "zip_ref = zipfile.ZipFile(local_zip,'r')\n",
        "zip_ref.extractall('Cats-vs-Dogs/validation')\n",
        "zip_ref.close()\n",
        "shutil.rmtree('Cats-vs-Dogs/validation/__MACOSX')"
      ],
      "execution_count": null,
      "outputs": []
    },
    {
      "cell_type": "code",
      "metadata": {
        "id": "DWj3IrqKax3-",
        "colab_type": "code",
        "colab": {}
      },
      "source": [
        "local_zip = 'Cats-vs-Dogs/test.zip'\n",
        "zip_ref = zipfile.ZipFile(local_zip,'r')\n",
        "zip_ref.extractall('Cats-vs-Dogs/test')\n",
        "zip_ref.close()\n",
        "shutil.rmtree('Cats-vs-Dogs/test/__MACOSX')"
      ],
      "execution_count": null,
      "outputs": []
    },
    {
      "cell_type": "code",
      "metadata": {
        "id": "UXkc8EihqZQO",
        "colab_type": "code",
        "colab": {}
      },
      "source": [
        "os.remove('Cats-vs-Dogs/test.zip')\n",
        "os.remove('Cats-vs-Dogs/train.zip')\n",
        "os.remove('Cats-vs-Dogs/validation.zip')"
      ],
      "execution_count": null,
      "outputs": []
    },
    {
      "cell_type": "markdown",
      "metadata": {
        "id": "3BpL3fke7t2H",
        "colab_type": "text"
      },
      "source": [
        "The following code snippet removes the hidden .DS_Store files. \n",
        "Snippet taken from : https://gist.github.com/mattsparks/19a0911999a623a3c302cc29c96b293a"
      ]
    },
    {
      "cell_type": "code",
      "metadata": {
        "id": "RgVJxu0DutN0",
        "colab_type": "code",
        "colab": {}
      },
      "source": [
        "import glob\n",
        "os.chdir('/content/Cats-vs-Dogs')\n",
        "for root, dirs, files in os.walk('/'):\n",
        "  i = 0\n",
        "  for file in files:\n",
        "    if file.endswith('.DS_Store'):\n",
        "      path = os.path.join(root, file)\n",
        "      if os.remove(path):\n",
        "        pass\n",
        "      else:\n",
        "        i += 1"
      ],
      "execution_count": null,
      "outputs": []
    },
    {
      "cell_type": "markdown",
      "metadata": {
        "id": "HRNYzQH08TTw",
        "colab_type": "text"
      },
      "source": [
        "Now we create paths to the directories from where our ImageDataGenerator will take images for training,validation and testing."
      ]
    },
    {
      "cell_type": "code",
      "metadata": {
        "id": "MTHP_2ZlqnJg",
        "colab_type": "code",
        "colab": {}
      },
      "source": [
        "base_dir = os.path.join('/content','Cats-vs-Dogs')\n",
        "train_directory = os.path.join((os.path.join(base_dir,'train')),'train')\n",
        "test_directory = os.path.join((os.path.join(base_dir,'test')),'test')\n",
        "validation_directory = os.path.join((os.path.join(base_dir,'validation')),'validation')"
      ],
      "execution_count": null,
      "outputs": []
    },
    {
      "cell_type": "code",
      "metadata": {
        "id": "RPNy5VjSq6nB",
        "colab_type": "code",
        "colab": {}
      },
      "source": [
        "from keras.preprocessing.image import ImageDataGenerator"
      ],
      "execution_count": null,
      "outputs": []
    },
    {
      "cell_type": "markdown",
      "metadata": {
        "id": "x-GvNsvS89oV",
        "colab_type": "text"
      },
      "source": [
        "Our next step is to create our ImageDataGenerators using keras. Before training our model, images require preprocessing. Currently our images exist as JPEG files. We need to : \n",
        "\n",
        "\n",
        "1.   Decode these images to RGB grid of pixels. \n",
        "2.   Convert these pixels to floating-point tensors so that they can be fed into the neural network.\n",
        "3.   Rescale pixels to have a value between 0 and 1.\n",
        "\n",
        "Thankfully, all these tasks can be done using ImageDataGenerators from the keras library.\n"
      ]
    },
    {
      "cell_type": "code",
      "metadata": {
        "id": "Km5NvXC6r9FJ",
        "colab_type": "code",
        "colab": {
          "base_uri": "https://localhost:8080/",
          "height": 51
        },
        "outputId": "2e597144-5e1c-4778-a795-6ed7775d1b54"
      },
      "source": [
        "datagen = ImageDataGenerator(rescale = 1./255)\n",
        "train_generator = datagen.flow_from_directory(train_directory,\n",
        "                                              target_size = (150,150),\n",
        "                                              batch_size = 20,\n",
        "                                              class_mode = 'binary')\n",
        "\n",
        "validation_generator = datagen.flow_from_directory(validation_directory,\n",
        "                                              target_size = (150,150),\n",
        "                                              batch_size = 20,\n",
        "                                              class_mode = 'binary')"
      ],
      "execution_count": null,
      "outputs": [
        {
          "output_type": "stream",
          "text": [
            "Found 2000 images belonging to 2 classes.\n",
            "Found 1000 images belonging to 2 classes.\n"
          ],
          "name": "stdout"
        }
      ]
    },
    {
      "cell_type": "code",
      "metadata": {
        "id": "TKs14yZex1_d",
        "colab_type": "code",
        "colab": {}
      },
      "source": [
        "from keras import layers\n",
        "from keras import models"
      ],
      "execution_count": null,
      "outputs": []
    },
    {
      "cell_type": "markdown",
      "metadata": {
        "id": "QrDXrqbs-Rid",
        "colab_type": "text"
      },
      "source": [
        "We define our model in the next code block."
      ]
    },
    {
      "cell_type": "code",
      "metadata": {
        "id": "Jhi2LKInx15a",
        "colab_type": "code",
        "colab": {}
      },
      "source": [
        "model = models.Sequential()\n",
        "#First convolutional layer with 32 3x3 filters\n",
        "model.add(layers.Conv2D(32, (3, 3), activation='relu',\n",
        "      input_shape=(150, 150, 3)))\n",
        "model.add(layers.MaxPooling2D((2, 2)))\n",
        "\n",
        "#Second convolutional layer with 64 3x3 filters\n",
        "model.add(layers.Conv2D(64, (3, 3), activation='relu'))\n",
        "model.add(layers.MaxPooling2D((2, 2)))\n",
        "\n",
        "#Third convolutional layer with 128 3x3 filters\n",
        "model.add(layers.Conv2D(128, (3, 3), activation='relu'))\n",
        "model.add(layers.MaxPooling2D((2, 2)))\n",
        "\n",
        "#Fourth convolutional layer with 128 3x3 filters\n",
        "model.add(layers.Conv2D(128, (3, 3), activation='relu'))\n",
        "model.add(layers.MaxPooling2D((2, 2)))\n",
        "\n",
        "#Fifth convolutional layer with 128 3x3 filters\n",
        "model.add(layers.Conv2D(128, (3, 3), activation='relu'))\n",
        "model.add(layers.MaxPooling2D((2, 2)))\n",
        "\n",
        "#We flatten our final feature map and add a hidden dense layer with 512 neurons\n",
        "model.add(layers.Flatten())\n",
        "model.add(layers.Dense(512, activation='relu'))\n",
        "\n",
        "#Our output layer\n",
        "model.add(layers.Dense(1, activation='sigmoid'))"
      ],
      "execution_count": null,
      "outputs": []
    },
    {
      "cell_type": "markdown",
      "metadata": {
        "id": "sQPC4wB4_20Q",
        "colab_type": "text"
      },
      "source": [
        "Since we are tackling a binary classification problem, our output layer is of size 1 and activation 'sigmoid'. The network will give us a single probability ***p*** and since there are only two classes, the two probabilities will be ***p*** and ***1-p***.\n",
        "\n"
      ]
    },
    {
      "cell_type": "markdown",
      "metadata": {
        "id": "qXwNetor_WKR",
        "colab_type": "text"
      },
      "source": [
        "Let's print out a summary of our model.\n"
      ]
    },
    {
      "cell_type": "code",
      "metadata": {
        "id": "iiuS_Nu8_ivp",
        "colab_type": "code",
        "colab": {
          "base_uri": "https://localhost:8080/",
          "height": 595
        },
        "outputId": "4772e525-0386-4d78-c313-f418b8038ff3"
      },
      "source": [
        "model.summary()"
      ],
      "execution_count": null,
      "outputs": [
        {
          "output_type": "stream",
          "text": [
            "Model: \"sequential_1\"\n",
            "_________________________________________________________________\n",
            "Layer (type)                 Output Shape              Param #   \n",
            "=================================================================\n",
            "conv2d (Conv2D)              (None, 148, 148, 32)      896       \n",
            "_________________________________________________________________\n",
            "max_pooling2d (MaxPooling2D) (None, 74, 74, 32)        0         \n",
            "_________________________________________________________________\n",
            "conv2d_1 (Conv2D)            (None, 72, 72, 64)        18496     \n",
            "_________________________________________________________________\n",
            "max_pooling2d_1 (MaxPooling2 (None, 36, 36, 64)        0         \n",
            "_________________________________________________________________\n",
            "conv2d_2 (Conv2D)            (None, 34, 34, 128)       73856     \n",
            "_________________________________________________________________\n",
            "max_pooling2d_2 (MaxPooling2 (None, 17, 17, 128)       0         \n",
            "_________________________________________________________________\n",
            "conv2d_3 (Conv2D)            (None, 15, 15, 128)       147584    \n",
            "_________________________________________________________________\n",
            "max_pooling2d_3 (MaxPooling2 (None, 7, 7, 128)         0         \n",
            "_________________________________________________________________\n",
            "conv2d_4 (Conv2D)            (None, 5, 5, 128)         147584    \n",
            "_________________________________________________________________\n",
            "max_pooling2d_4 (MaxPooling2 (None, 2, 2, 128)         0         \n",
            "_________________________________________________________________\n",
            "flatten_1 (Flatten)          (None, 512)               0         \n",
            "_________________________________________________________________\n",
            "dense_2 (Dense)              (None, 512)               262656    \n",
            "_________________________________________________________________\n",
            "dense_3 (Dense)              (None, 1)                 513       \n",
            "=================================================================\n",
            "Total params: 651,585\n",
            "Trainable params: 651,585\n",
            "Non-trainable params: 0\n",
            "_________________________________________________________________\n"
          ],
          "name": "stdout"
        }
      ]
    },
    {
      "cell_type": "code",
      "metadata": {
        "id": "wgPZwRm1sBXf",
        "colab_type": "code",
        "colab": {}
      },
      "source": [
        "from keras import optimizers"
      ],
      "execution_count": null,
      "outputs": []
    },
    {
      "cell_type": "markdown",
      "metadata": {
        "id": "uGRFUf7HAxo8",
        "colab_type": "text"
      },
      "source": [
        "Now we compile and fit our model. Since it is a binary classification problem, we use 'binary_crossentropy' as our loss function and RMSprop as our optimizer with a learning rate of 0.0001. \n",
        "Since our data generator takes images in batches of 20, and we have 2000 training images, the number of steps per epoch should be 2000/20 = 100 "
      ]
    },
    {
      "cell_type": "code",
      "metadata": {
        "id": "aXIij8xDsH3p",
        "colab_type": "code",
        "colab": {}
      },
      "source": [
        "model.compile(loss='binary_crossentropy',\n",
        "optimizer=optimizers.RMSprop(lr=1e-4),\n",
        "metrics=['acc'])"
      ],
      "execution_count": null,
      "outputs": []
    },
    {
      "cell_type": "code",
      "metadata": {
        "id": "SWXE1aCOyiHI",
        "colab_type": "code",
        "colab": {
          "base_uri": "https://localhost:8080/",
          "height": 1000
        },
        "outputId": "8b2d45e1-881d-4dbc-c9cf-366a63e4cbfc"
      },
      "source": [
        "result = model.fit(\n",
        "train_generator,\n",
        "steps_per_epoch=100,\n",
        "epochs=40,\n",
        "validation_data=validation_generator,\n",
        "validation_steps=50)"
      ],
      "execution_count": null,
      "outputs": [
        {
          "output_type": "stream",
          "text": [
            "Epoch 1/40\n",
            "100/100 [==============================] - 11s 109ms/step - loss: 0.6924 - acc: 0.5345 - val_loss: 0.6917 - val_acc: 0.5000\n",
            "Epoch 2/40\n",
            "100/100 [==============================] - 11s 109ms/step - loss: 0.6803 - acc: 0.5600 - val_loss: 0.6698 - val_acc: 0.6000\n",
            "Epoch 3/40\n",
            "100/100 [==============================] - 11s 109ms/step - loss: 0.6680 - acc: 0.5965 - val_loss: 0.6649 - val_acc: 0.6050\n",
            "Epoch 4/40\n",
            "100/100 [==============================] - 11s 108ms/step - loss: 0.6502 - acc: 0.6220 - val_loss: 0.6680 - val_acc: 0.5820\n",
            "Epoch 5/40\n",
            "100/100 [==============================] - 11s 109ms/step - loss: 0.6373 - acc: 0.6495 - val_loss: 0.6371 - val_acc: 0.6480\n",
            "Epoch 6/40\n",
            "100/100 [==============================] - 11s 108ms/step - loss: 0.6165 - acc: 0.6645 - val_loss: 0.6233 - val_acc: 0.6610\n",
            "Epoch 7/40\n",
            "100/100 [==============================] - 11s 108ms/step - loss: 0.5949 - acc: 0.6795 - val_loss: 0.6616 - val_acc: 0.6190\n",
            "Epoch 8/40\n",
            "100/100 [==============================] - 11s 108ms/step - loss: 0.5737 - acc: 0.7050 - val_loss: 0.5964 - val_acc: 0.6860\n",
            "Epoch 9/40\n",
            "100/100 [==============================] - 11s 108ms/step - loss: 0.5537 - acc: 0.7250 - val_loss: 0.5829 - val_acc: 0.6860\n",
            "Epoch 10/40\n",
            "100/100 [==============================] - 11s 108ms/step - loss: 0.5311 - acc: 0.7425 - val_loss: 0.5773 - val_acc: 0.7050\n",
            "Epoch 11/40\n",
            "100/100 [==============================] - 11s 108ms/step - loss: 0.5079 - acc: 0.7535 - val_loss: 0.6165 - val_acc: 0.6570\n",
            "Epoch 12/40\n",
            "100/100 [==============================] - 11s 108ms/step - loss: 0.4901 - acc: 0.7665 - val_loss: 0.5871 - val_acc: 0.6880\n",
            "Epoch 13/40\n",
            "100/100 [==============================] - 11s 106ms/step - loss: 0.4649 - acc: 0.7845 - val_loss: 0.6566 - val_acc: 0.6500\n",
            "Epoch 14/40\n",
            "100/100 [==============================] - 11s 107ms/step - loss: 0.4462 - acc: 0.7960 - val_loss: 0.5748 - val_acc: 0.7100\n",
            "Epoch 15/40\n",
            "100/100 [==============================] - 11s 107ms/step - loss: 0.4309 - acc: 0.7970 - val_loss: 0.5710 - val_acc: 0.7070\n",
            "Epoch 16/40\n",
            "100/100 [==============================] - 11s 107ms/step - loss: 0.4088 - acc: 0.8115 - val_loss: 0.6613 - val_acc: 0.6680\n",
            "Epoch 17/40\n",
            "100/100 [==============================] - 11s 106ms/step - loss: 0.3894 - acc: 0.8165 - val_loss: 0.5426 - val_acc: 0.7330\n",
            "Epoch 18/40\n",
            "100/100 [==============================] - 11s 107ms/step - loss: 0.3577 - acc: 0.8440 - val_loss: 0.5328 - val_acc: 0.7440\n",
            "Epoch 19/40\n",
            "100/100 [==============================] - 11s 107ms/step - loss: 0.3418 - acc: 0.8530 - val_loss: 0.5909 - val_acc: 0.7130\n",
            "Epoch 20/40\n",
            "100/100 [==============================] - 11s 105ms/step - loss: 0.3253 - acc: 0.8605 - val_loss: 0.5703 - val_acc: 0.7320\n",
            "Epoch 21/40\n",
            "100/100 [==============================] - 11s 106ms/step - loss: 0.2981 - acc: 0.8715 - val_loss: 0.6958 - val_acc: 0.6950\n",
            "Epoch 22/40\n",
            "100/100 [==============================] - 11s 108ms/step - loss: 0.2714 - acc: 0.8905 - val_loss: 0.5995 - val_acc: 0.7320\n",
            "Epoch 23/40\n",
            "100/100 [==============================] - 11s 106ms/step - loss: 0.2525 - acc: 0.9000 - val_loss: 0.6891 - val_acc: 0.7100\n",
            "Epoch 24/40\n",
            "100/100 [==============================] - 10s 104ms/step - loss: 0.2238 - acc: 0.9145 - val_loss: 0.7601 - val_acc: 0.6890\n",
            "Epoch 25/40\n",
            "100/100 [==============================] - 11s 106ms/step - loss: 0.2113 - acc: 0.9175 - val_loss: 0.5966 - val_acc: 0.7400\n",
            "Epoch 26/40\n",
            "100/100 [==============================] - 10s 105ms/step - loss: 0.1874 - acc: 0.9310 - val_loss: 0.7167 - val_acc: 0.7120\n",
            "Epoch 27/40\n",
            "100/100 [==============================] - 10s 104ms/step - loss: 0.1575 - acc: 0.9435 - val_loss: 0.6692 - val_acc: 0.7500\n",
            "Epoch 28/40\n",
            "100/100 [==============================] - 11s 105ms/step - loss: 0.1526 - acc: 0.9420 - val_loss: 0.6926 - val_acc: 0.7370\n",
            "Epoch 29/40\n",
            "100/100 [==============================] - 11s 105ms/step - loss: 0.1237 - acc: 0.9580 - val_loss: 0.8319 - val_acc: 0.7070\n",
            "Epoch 30/40\n",
            "100/100 [==============================] - 10s 105ms/step - loss: 0.1120 - acc: 0.9570 - val_loss: 0.9556 - val_acc: 0.6930\n",
            "Epoch 31/40\n",
            "100/100 [==============================] - 11s 107ms/step - loss: 0.0952 - acc: 0.9710 - val_loss: 0.7473 - val_acc: 0.7400\n",
            "Epoch 32/40\n",
            "100/100 [==============================] - 11s 106ms/step - loss: 0.0864 - acc: 0.9720 - val_loss: 0.7766 - val_acc: 0.7430\n",
            "Epoch 33/40\n",
            "100/100 [==============================] - 11s 106ms/step - loss: 0.0756 - acc: 0.9800 - val_loss: 1.0611 - val_acc: 0.7140\n",
            "Epoch 34/40\n",
            "100/100 [==============================] - 11s 107ms/step - loss: 0.0650 - acc: 0.9810 - val_loss: 0.9108 - val_acc: 0.7490\n",
            "Epoch 35/40\n",
            "100/100 [==============================] - 11s 106ms/step - loss: 0.0600 - acc: 0.9840 - val_loss: 0.9140 - val_acc: 0.7420\n",
            "Epoch 36/40\n",
            "100/100 [==============================] - 11s 106ms/step - loss: 0.0467 - acc: 0.9875 - val_loss: 0.9314 - val_acc: 0.7460\n",
            "Epoch 37/40\n",
            "100/100 [==============================] - 11s 107ms/step - loss: 0.0353 - acc: 0.9920 - val_loss: 0.9501 - val_acc: 0.7370\n",
            "Epoch 38/40\n",
            "100/100 [==============================] - 11s 106ms/step - loss: 0.0324 - acc: 0.9925 - val_loss: 1.0328 - val_acc: 0.7280\n",
            "Epoch 39/40\n",
            "100/100 [==============================] - 11s 106ms/step - loss: 0.0299 - acc: 0.9915 - val_loss: 1.1420 - val_acc: 0.7220\n",
            "Epoch 40/40\n",
            "100/100 [==============================] - 11s 106ms/step - loss: 0.0279 - acc: 0.9920 - val_loss: 1.0692 - val_acc: 0.7360\n"
          ],
          "name": "stdout"
        }
      ]
    },
    {
      "cell_type": "markdown",
      "metadata": {
        "id": "k3WksWPvUDAY",
        "colab_type": "text"
      },
      "source": [
        "Let's visualise these results using matplotlib.\n"
      ]
    },
    {
      "cell_type": "code",
      "metadata": {
        "id": "oa9IDpBXyzQp",
        "colab_type": "code",
        "colab": {}
      },
      "source": [
        "import matplotlib.pyplot as plt"
      ],
      "execution_count": null,
      "outputs": []
    },
    {
      "cell_type": "code",
      "metadata": {
        "id": "YjFv_zJsDce7",
        "colab_type": "code",
        "colab": {
          "base_uri": "https://localhost:8080/",
          "height": 541
        },
        "outputId": "526b250a-a4b9-44bf-ee76-e81325b33b56"
      },
      "source": [
        "acc = result.history['acc']\n",
        "loss = result.history['loss']\n",
        "validation_acc = result.history['val_acc']\n",
        "validation_loss = result.history['val_loss']\n",
        "\n",
        "x = range(1,len(acc)+1)\n",
        "\n",
        "plt.plot(x,acc,'x-b',label = 'Training Accuracy')\n",
        "plt.plot(x,validation_acc,'o-m',label = 'Validation Accuracy')\n",
        "plt.xlabel('Epochs')\n",
        "plt.ylabel('Accuracy')\n",
        "plt.legend()\n",
        "plt.figure()\n",
        "plt.plot(x,loss,'x-b',label = 'Training Loss')\n",
        "plt.plot(x,validation_loss,'o-m',label = 'Validation Loss')\n",
        "plt.xlabel('Epochs')\n",
        "plt.ylabel('Loss')\n",
        "plt.legend()\n",
        "plt.show()"
      ],
      "execution_count": null,
      "outputs": [
        {
          "output_type": "display_data",
          "data": {
            "image/png": "[encoded data removed]",
            "text/plain": [
              "<Figure size 432x288 with 1 Axes>"
            ]
          },
          "metadata": {
            "tags": [],
            "needs_background": "light"
          }
        },
        {
          "output_type": "display_data",
          "data": {
            "image/png": "[encoded data removed]",
            "text/plain": [
              "<Figure size 432x288 with 1 Axes>"
            ]
          },
          "metadata": {
            "tags": [],
            "needs_background": "light"
          }
        }
      ]
    },
    {
      "cell_type": "markdown",
      "metadata": {
        "id": "DJq6neKvUMl9",
        "colab_type": "text"
      },
      "source": [
        "As we can see, the training accuracy increases linearly until it reaches close to 100% whereas the validation accuracy stalls close to 70%. \n",
        "\n",
        "Similary, the training loss falls with every epoch while the validation loss reaches it's minimum somewhere between the 6th-8th epoch, after which it starts increasing.\n",
        "\n",
        "These plots are characteristic of intense overfitting. This is to be expected since our dataset is so small, comprising of only 2000 training images. It's 10% of the original dataset from Kaggle, which contains 20000 training images. "
      ]
    },
    {
      "cell_type": "markdown",
      "metadata": {
        "id": "x21JX14HVW_s",
        "colab_type": "text"
      },
      "source": [
        "#Data Augmentation \n",
        "We tackle this intense overfitting by using data augmentation. Data augmentation refers to generating more training data from existing data by applying a transformation to the original images such that the result is also the same category of image. \n",
        "\n",
        "\n"
      ]
    },
    {
      "cell_type": "code",
      "metadata": {
        "id": "fkzYDNOmPzFG",
        "colab_type": "code",
        "colab": {}
      },
      "source": [
        "train_datagen = ImageDataGenerator(rescale = 1./255,\n",
        "                                   horizontal_flip = True,\n",
        "                                   rotation_range = 40,\n",
        "                                   width_shift_range = 0.2,\n",
        "                                   height_shift_range = 0.2,\n",
        "                                   shear_range = 0.2,\n",
        "                                   zoom_range = 0.2,\n",
        "                                   fill_mode = 'nearest')"
      ],
      "execution_count": null,
      "outputs": []
    },
    {
      "cell_type": "code",
      "metadata": {
        "id": "pbakncXfbdK2",
        "colab_type": "code",
        "colab": {
          "base_uri": "https://localhost:8080/",
          "height": 1000
        },
        "outputId": "d8f00c10-e6c4-41a7-c237-b36d6b7e758d"
      },
      "source": [
        "train_generator_with_aug = train_datagen.flow_from_directory(train_directory,\n",
        "                                                    batch_size = 20,\n",
        "                                                    target_size = (150,150),\n",
        "                                                    class_mode = 'binary')\n",
        "\n",
        "validation_generator = datagen.flow_from_directory(validation_directory,\n",
        "                                                   batch_size = 20,\n",
        "                                                   target_size = (150,150),\n",
        "                                                   class_mode = 'binary')\n",
        "\n",
        "result_aug = model.fit(train_generator_with_aug,\n",
        "                       steps_per_epoch = 100,\n",
        "                       epochs =50,\n",
        "                       validation_data = validation_generator,\n",
        "                       validation_steps = 50)"
      ],
      "execution_count": null,
      "outputs": [
        {
          "output_type": "stream",
          "text": [
            "Found 2000 images belonging to 2 classes.\n",
            "Found 1000 images belonging to 2 classes.\n",
            "Epoch 1/50\n",
            "100/100 [==============================] - 21s 209ms/step - loss: 0.9166 - acc: 0.6600 - val_loss: 0.6294 - val_acc: 0.7070\n",
            "Epoch 2/50\n",
            "100/100 [==============================] - 21s 207ms/step - loss: 0.6327 - acc: 0.6855 - val_loss: 0.5673 - val_acc: 0.7130\n",
            "Epoch 3/50\n",
            "100/100 [==============================] - 21s 207ms/step - loss: 0.5958 - acc: 0.6945 - val_loss: 0.5617 - val_acc: 0.7190\n",
            "Epoch 4/50\n",
            "100/100 [==============================] - 21s 207ms/step - loss: 0.5668 - acc: 0.7095 - val_loss: 0.5654 - val_acc: 0.7060\n",
            "Epoch 5/50\n",
            "100/100 [==============================] - 21s 207ms/step - loss: 0.5832 - acc: 0.6870 - val_loss: 0.5078 - val_acc: 0.7570\n",
            "Epoch 6/50\n",
            "100/100 [==============================] - 21s 206ms/step - loss: 0.5634 - acc: 0.7070 - val_loss: 0.5433 - val_acc: 0.7160\n",
            "Epoch 7/50\n",
            "100/100 [==============================] - 21s 208ms/step - loss: 0.5605 - acc: 0.7225 - val_loss: 0.5117 - val_acc: 0.7470\n",
            "Epoch 8/50\n",
            "100/100 [==============================] - 21s 206ms/step - loss: 0.5342 - acc: 0.7405 - val_loss: 0.5293 - val_acc: 0.7410\n",
            "Epoch 9/50\n",
            "100/100 [==============================] - 21s 206ms/step - loss: 0.5359 - acc: 0.7220 - val_loss: 0.5041 - val_acc: 0.7270\n",
            "Epoch 10/50\n",
            "100/100 [==============================] - 20s 204ms/step - loss: 0.5314 - acc: 0.7420 - val_loss: 0.5098 - val_acc: 0.7530\n",
            "Epoch 11/50\n",
            "100/100 [==============================] - 20s 205ms/step - loss: 0.5437 - acc: 0.7310 - val_loss: 0.5018 - val_acc: 0.7540\n",
            "Epoch 12/50\n",
            "100/100 [==============================] - 20s 204ms/step - loss: 0.5257 - acc: 0.7400 - val_loss: 0.5074 - val_acc: 0.7490\n",
            "Epoch 13/50\n",
            "100/100 [==============================] - 20s 205ms/step - loss: 0.5149 - acc: 0.7535 - val_loss: 0.4861 - val_acc: 0.7500\n",
            "Epoch 14/50\n",
            "100/100 [==============================] - 20s 204ms/step - loss: 0.5173 - acc: 0.7410 - val_loss: 0.4769 - val_acc: 0.7700\n",
            "Epoch 15/50\n",
            "100/100 [==============================] - 20s 205ms/step - loss: 0.5116 - acc: 0.7345 - val_loss: 0.4863 - val_acc: 0.7670\n",
            "Epoch 16/50\n",
            "100/100 [==============================] - 20s 204ms/step - loss: 0.5095 - acc: 0.7460 - val_loss: 0.5034 - val_acc: 0.7500\n",
            "Epoch 17/50\n",
            "100/100 [==============================] - 20s 203ms/step - loss: 0.5154 - acc: 0.7560 - val_loss: 0.5375 - val_acc: 0.7260\n",
            "Epoch 18/50\n",
            "100/100 [==============================] - 20s 203ms/step - loss: 0.5060 - acc: 0.7450 - val_loss: 0.5124 - val_acc: 0.7590\n",
            "Epoch 19/50\n",
            "100/100 [==============================] - 20s 202ms/step - loss: 0.5145 - acc: 0.7440 - val_loss: 0.5021 - val_acc: 0.7420\n",
            "Epoch 20/50\n",
            "100/100 [==============================] - 20s 204ms/step - loss: 0.4978 - acc: 0.7600 - val_loss: 0.4929 - val_acc: 0.7510\n",
            "Epoch 21/50\n",
            "100/100 [==============================] - 20s 204ms/step - loss: 0.4991 - acc: 0.7540 - val_loss: 0.5962 - val_acc: 0.7090\n",
            "Epoch 22/50\n",
            "100/100 [==============================] - 20s 204ms/step - loss: 0.4911 - acc: 0.7675 - val_loss: 0.5164 - val_acc: 0.7570\n",
            "Epoch 23/50\n",
            "100/100 [==============================] - 20s 204ms/step - loss: 0.4957 - acc: 0.7600 - val_loss: 0.4674 - val_acc: 0.7800\n",
            "Epoch 24/50\n",
            "100/100 [==============================] - 21s 205ms/step - loss: 0.4891 - acc: 0.7725 - val_loss: 0.4998 - val_acc: 0.7370\n",
            "Epoch 25/50\n",
            "100/100 [==============================] - 20s 202ms/step - loss: 0.4857 - acc: 0.7745 - val_loss: 0.4886 - val_acc: 0.7570\n",
            "Epoch 26/50\n",
            "100/100 [==============================] - 20s 203ms/step - loss: 0.4824 - acc: 0.7665 - val_loss: 0.4733 - val_acc: 0.7700\n",
            "Epoch 27/50\n",
            "100/100 [==============================] - 20s 203ms/step - loss: 0.4824 - acc: 0.7560 - val_loss: 0.4781 - val_acc: 0.7690\n",
            "Epoch 28/50\n",
            "100/100 [==============================] - 20s 200ms/step - loss: 0.4842 - acc: 0.7690 - val_loss: 0.4633 - val_acc: 0.7900\n",
            "Epoch 29/50\n",
            "100/100 [==============================] - 20s 199ms/step - loss: 0.4736 - acc: 0.7680 - val_loss: 0.4643 - val_acc: 0.7780\n",
            "Epoch 30/50\n",
            "100/100 [==============================] - 20s 202ms/step - loss: 0.4753 - acc: 0.7715 - val_loss: 0.4661 - val_acc: 0.7760\n",
            "Epoch 31/50\n",
            "100/100 [==============================] - 20s 199ms/step - loss: 0.4639 - acc: 0.7810 - val_loss: 0.4950 - val_acc: 0.7660\n",
            "Epoch 32/50\n",
            "100/100 [==============================] - 20s 201ms/step - loss: 0.4790 - acc: 0.7645 - val_loss: 0.4684 - val_acc: 0.7770\n",
            "Epoch 33/50\n",
            "100/100 [==============================] - 20s 203ms/step - loss: 0.4660 - acc: 0.7730 - val_loss: 0.4373 - val_acc: 0.7920\n",
            "Epoch 34/50\n",
            "100/100 [==============================] - 20s 202ms/step - loss: 0.4577 - acc: 0.7770 - val_loss: 0.4515 - val_acc: 0.7820\n",
            "Epoch 35/50\n",
            "100/100 [==============================] - 20s 200ms/step - loss: 0.4446 - acc: 0.7940 - val_loss: 0.4433 - val_acc: 0.7870\n",
            "Epoch 36/50\n",
            "100/100 [==============================] - 20s 202ms/step - loss: 0.4492 - acc: 0.8005 - val_loss: 0.4610 - val_acc: 0.7710\n",
            "Epoch 37/50\n",
            "100/100 [==============================] - 20s 200ms/step - loss: 0.4452 - acc: 0.7880 - val_loss: 0.4563 - val_acc: 0.7870\n",
            "Epoch 38/50\n",
            "100/100 [==============================] - 20s 204ms/step - loss: 0.4657 - acc: 0.7670 - val_loss: 0.4693 - val_acc: 0.7650\n",
            "Epoch 39/50\n",
            "100/100 [==============================] - 20s 203ms/step - loss: 0.4618 - acc: 0.7730 - val_loss: 0.4512 - val_acc: 0.7780\n",
            "Epoch 40/50\n",
            "100/100 [==============================] - 20s 200ms/step - loss: 0.4558 - acc: 0.7805 - val_loss: 0.4446 - val_acc: 0.7930\n",
            "Epoch 41/50\n",
            "100/100 [==============================] - 20s 200ms/step - loss: 0.4386 - acc: 0.7940 - val_loss: 0.4164 - val_acc: 0.8080\n",
            "Epoch 42/50\n",
            "100/100 [==============================] - 20s 199ms/step - loss: 0.4409 - acc: 0.7885 - val_loss: 0.4454 - val_acc: 0.7810\n",
            "Epoch 43/50\n",
            "100/100 [==============================] - 20s 200ms/step - loss: 0.4416 - acc: 0.7970 - val_loss: 0.4470 - val_acc: 0.7930\n",
            "Epoch 44/50\n",
            "100/100 [==============================] - 20s 199ms/step - loss: 0.4460 - acc: 0.7910 - val_loss: 0.4134 - val_acc: 0.8050\n",
            "Epoch 45/50\n",
            "100/100 [==============================] - 20s 199ms/step - loss: 0.4380 - acc: 0.7920 - val_loss: 0.4169 - val_acc: 0.8060\n",
            "Epoch 46/50\n",
            "100/100 [==============================] - 20s 201ms/step - loss: 0.4286 - acc: 0.8015 - val_loss: 0.5121 - val_acc: 0.7730\n",
            "Epoch 47/50\n",
            "100/100 [==============================] - 20s 199ms/step - loss: 0.4380 - acc: 0.7910 - val_loss: 0.4345 - val_acc: 0.7940\n",
            "Epoch 48/50\n",
            "100/100 [==============================] - 20s 201ms/step - loss: 0.4275 - acc: 0.8060 - val_loss: 0.4711 - val_acc: 0.7820\n",
            "Epoch 49/50\n",
            "100/100 [==============================] - 20s 199ms/step - loss: 0.4424 - acc: 0.7940 - val_loss: 0.4397 - val_acc: 0.7970\n",
            "Epoch 50/50\n",
            "100/100 [==============================] - 20s 201ms/step - loss: 0.4215 - acc: 0.8005 - val_loss: 0.4230 - val_acc: 0.8100\n"
          ],
          "name": "stdout"
        }
      ]
    },
    {
      "cell_type": "code",
      "metadata": {
        "id": "licFQw32cQ4f",
        "colab_type": "code",
        "colab": {
          "base_uri": "https://localhost:8080/",
          "height": 541
        },
        "outputId": "c49fb74b-1622-441e-b520-eb2fd3ee4e3a"
      },
      "source": [
        "acc = result_aug.history['acc']\n",
        "loss = result_aug.history['loss']\n",
        "validation_acc = result_aug.history['val_acc']\n",
        "validation_loss = result_aug.history['val_loss']\n",
        "\n",
        "x = range(1,len(acc)+1)\n",
        "\n",
        "plt.plot(x,acc,'x-b',label = 'Training Accuracy')\n",
        "plt.plot(x,validation_acc,'o-m',label = 'Validation Accuracy')\n",
        "plt.xlabel('Epochs')\n",
        "plt.ylabel('Accuracy')\n",
        "plt.legend()\n",
        "plt.figure()\n",
        "plt.plot(x,loss,'x-b',label = 'Training Loss')\n",
        "plt.plot(x,validation_loss,'o-m',label = 'Validation Loss')\n",
        "plt.xlabel('Epochs')\n",
        "plt.ylabel('Loss')\n",
        "plt.legend()\n",
        "plt.show()"
      ],
      "execution_count": null,
      "outputs": [
        {
          "output_type": "display_data",
          "data": {
            "image/png": "[encoded data removed]",
            "text/plain": [
              "<Figure size 432x288 with 1 Axes>"
            ]
          },
          "metadata": {
            "tags": [],
            "needs_background": "light"
          }
        },
        {
          "output_type": "display_data",
          "data": {
            "image/png": "[encoded data removed]",
            "text/plain": [
              "<Figure size 432x288 with 1 Axes>"
            ]
          },
          "metadata": {
            "tags": [],
            "needs_background": "light"
          }
        }
      ]
    },
    {
      "cell_type": "markdown",
      "metadata": {
        "id": "4Nq7qiTHJYM2",
        "colab_type": "text"
      },
      "source": [
        "Clearly, we are no longer overfitting because of a larger training sample due to data augmentation. The validation curves are closely tracking the training curves for the most part, with some hiccups in between.\n",
        "\n",
        "The accuracy reaches to about 82%, which is almost a 17% increase from our previous accuracy without augmentation."
      ]
    },
    {
      "cell_type": "markdown",
      "metadata": {
        "id": "8GUoEOXrKZJO",
        "colab_type": "text"
      },
      "source": [
        "#Using a Pre-Trained Model (Feature Extraction)\n",
        "We can further improve our accuracy by using a pretrained model such as ResNet50, VGG16, VGG19, etc. \n",
        "Each convolutional neural network has two parts : \n",
        "\n",
        "1. The **convulational base** consisting of the pooling and convolutional layers. \n",
        "2. The **densely connected classifier** that sits on top of the convolutional base\n",
        "\n",
        "We just need to take the convulational base of the pre-trained network and add it on top of our classifier.\n",
        "The patterns and features learned by the convolutional base are more generic and hence more reusable. The classifier, on the other hand, recognises and learns local patterns in the dataset. Hence, we avoid using the classifier of the pretrained model and use only the convolutional base instead.\n",
        "\n"
      ]
    },
    {
      "cell_type": "markdown",
      "metadata": {
        "id": "MQAd4WYbM0dh",
        "colab_type": "text"
      },
      "source": [
        "The VGG16 model was trained on the ImageNet dataset which contains many images of dogs and cats, so we can use the classifier as well. But to have a more generic model, we won't use it and build our own classifier."
      ]
    },
    {
      "cell_type": "code",
      "metadata": {
        "id": "5LEW-TLVKRel",
        "colab_type": "code",
        "colab": {}
      },
      "source": [
        "from keras.applications import VGG16"
      ],
      "execution_count": null,
      "outputs": []
    },
    {
      "cell_type": "code",
      "metadata": {
        "id": "tqUesKetNN6c",
        "colab_type": "code",
        "colab": {}
      },
      "source": [
        "vgg16_base = VGG16(include_top = False,\n",
        "                   weights = 'imagenet',\n",
        "                   input_shape = (150,150,3))"
      ],
      "execution_count": null,
      "outputs": []
    },
    {
      "cell_type": "code",
      "metadata": {
        "id": "9a_uzrqxNbOE",
        "colab_type": "code",
        "colab": {
          "base_uri": "https://localhost:8080/",
          "height": 799
        },
        "outputId": "6013272d-1013-48c0-a7b3-3ba605e035bf"
      },
      "source": [
        "vgg16_base.summary()"
      ],
      "execution_count": null,
      "outputs": [
        {
          "output_type": "stream",
          "text": [
            "Model: \"vgg16\"\n",
            "_________________________________________________________________\n",
            "Layer (type)                 Output Shape              Param #   \n",
            "=================================================================\n",
            "input_2 (InputLayer)         [(None, 150, 150, 3)]     0         \n",
            "_________________________________________________________________\n",
            "block1_conv1 (Conv2D)        (None, 150, 150, 64)      1792      \n",
            "_________________________________________________________________\n",
            "block1_conv2 (Conv2D)        (None, 150, 150, 64)      36928     \n",
            "_________________________________________________________________\n",
            "block1_pool (MaxPooling2D)   (None, 75, 75, 64)        0         \n",
            "_________________________________________________________________\n",
            "block2_conv1 (Conv2D)        (None, 75, 75, 128)       73856     \n",
            "_________________________________________________________________\n",
            "block2_conv2 (Conv2D)        (None, 75, 75, 128)       147584    \n",
            "_________________________________________________________________\n",
            "block2_pool (MaxPooling2D)   (None, 37, 37, 128)       0         \n",
            "_________________________________________________________________\n",
            "block3_conv1 (Conv2D)        (None, 37, 37, 256)       295168    \n",
            "_________________________________________________________________\n",
            "block3_conv2 (Conv2D)        (None, 37, 37, 256)       590080    \n",
            "_________________________________________________________________\n",
            "block3_conv3 (Conv2D)        (None, 37, 37, 256)       590080    \n",
            "_________________________________________________________________\n",
            "block3_pool (MaxPooling2D)   (None, 18, 18, 256)       0         \n",
            "_________________________________________________________________\n",
            "block4_conv1 (Conv2D)        (None, 18, 18, 512)       1180160   \n",
            "_________________________________________________________________\n",
            "block4_conv2 (Conv2D)        (None, 18, 18, 512)       2359808   \n",
            "_________________________________________________________________\n",
            "block4_conv3 (Conv2D)        (None, 18, 18, 512)       2359808   \n",
            "_________________________________________________________________\n",
            "block4_pool (MaxPooling2D)   (None, 9, 9, 512)         0         \n",
            "_________________________________________________________________\n",
            "block5_conv1 (Conv2D)        (None, 9, 9, 512)         2359808   \n",
            "_________________________________________________________________\n",
            "block5_conv2 (Conv2D)        (None, 9, 9, 512)         2359808   \n",
            "_________________________________________________________________\n",
            "block5_conv3 (Conv2D)        (None, 9, 9, 512)         2359808   \n",
            "_________________________________________________________________\n",
            "block5_pool (MaxPooling2D)   (None, 4, 4, 512)         0         \n",
            "=================================================================\n",
            "Total params: 14,714,688\n",
            "Trainable params: 14,714,688\n",
            "Non-trainable params: 0\n",
            "_________________________________________________________________\n"
          ],
          "name": "stdout"
        }
      ]
    },
    {
      "cell_type": "markdown",
      "metadata": {
        "id": "wUy8IB-tlCiY",
        "colab_type": "text"
      },
      "source": [
        "Before compiling and training the model, we have to freeze the convolutional base. If we don't do this, the patterns that were previously learned by the model would be updated during the training. "
      ]
    },
    {
      "cell_type": "code",
      "metadata": {
        "id": "S7RHrdwtNgkA",
        "colab_type": "code",
        "colab": {}
      },
      "source": [
        "#Freezing the convoutional base\n",
        "vgg16_base.trainable = False"
      ],
      "execution_count": null,
      "outputs": []
    },
    {
      "cell_type": "code",
      "metadata": {
        "id": "nhELX2R1NwtO",
        "colab_type": "code",
        "colab": {}
      },
      "source": [
        "new_model = models.Sequential()\n",
        "new_model.add(vgg16_base)\n",
        "new_model.add(layers.Flatten())\n",
        "new_model.add(layers.Dense(256,activation = 'relu'))\n",
        "new_model.add(layers.Dense(1,activation = 'sigmoid'))"
      ],
      "execution_count": null,
      "outputs": []
    },
    {
      "cell_type": "code",
      "metadata": {
        "id": "LqdevTufOFpb",
        "colab_type": "code",
        "colab": {
          "base_uri": "https://localhost:8080/",
          "height": 289
        },
        "outputId": "a2cce3c7-9193-46e5-9d69-bc1024cf2689"
      },
      "source": [
        "new_model.summary()"
      ],
      "execution_count": null,
      "outputs": [
        {
          "output_type": "stream",
          "text": [
            "Model: \"sequential_2\"\n",
            "_________________________________________________________________\n",
            "Layer (type)                 Output Shape              Param #   \n",
            "=================================================================\n",
            "vgg16 (Functional)           (None, 4, 4, 512)         14714688  \n",
            "_________________________________________________________________\n",
            "flatten_2 (Flatten)          (None, 8192)              0         \n",
            "_________________________________________________________________\n",
            "dense_4 (Dense)              (None, 256)               2097408   \n",
            "_________________________________________________________________\n",
            "dense_5 (Dense)              (None, 1)                 257       \n",
            "=================================================================\n",
            "Total params: 16,812,353\n",
            "Trainable params: 2,097,665\n",
            "Non-trainable params: 14,714,688\n",
            "_________________________________________________________________\n"
          ],
          "name": "stdout"
        }
      ]
    },
    {
      "cell_type": "code",
      "metadata": {
        "id": "AeDr6zcXRibD",
        "colab_type": "code",
        "colab": {}
      },
      "source": [
        "new_model.compile(optimizer = optimizers.RMSprop(lr = 2e-5),\n",
        "                  loss = 'binary_crossentropy',\n",
        "                  metrics = 'acc')"
      ],
      "execution_count": null,
      "outputs": []
    },
    {
      "cell_type": "code",
      "metadata": {
        "id": "yykCPYS1VMod",
        "colab_type": "code",
        "colab": {
          "base_uri": "https://localhost:8080/",
          "height": 51
        },
        "outputId": "2ad1ecc6-62cb-4864-96a6-77055e1efe8e"
      },
      "source": [
        "train_datagen = ImageDataGenerator(rescale = 1./255,\n",
        "                                   horizontal_flip = True,\n",
        "                                   rotation_range = 40,\n",
        "                                   width_shift_range = 0.2,\n",
        "                                   height_shift_range = 0.2,\n",
        "                                   shear_range = 0.2,\n",
        "                                   zoom_range = 0.2,\n",
        "                                   fill_mode = 'nearest')\n",
        "\n",
        "train_generator_vgg16 = train_datagen.flow_from_directory(train_directory, \n",
        "                                                          target_size = (150,150),\n",
        "                                                          batch_size = 20,\n",
        "                                                          class_mode = 'binary')\n",
        "\n",
        "validation_generator = datagen.flow_from_directory(validation_directory,\n",
        "                                                   target_size = (150,150),\n",
        "                                                   batch_size = 20,\n",
        "                                                   class_mode = 'binary')"
      ],
      "execution_count": null,
      "outputs": [
        {
          "output_type": "stream",
          "text": [
            "Found 2000 images belonging to 2 classes.\n",
            "Found 1000 images belonging to 2 classes.\n"
          ],
          "name": "stdout"
        }
      ]
    },
    {
      "cell_type": "code",
      "metadata": {
        "id": "XNcElQviOHKv",
        "colab_type": "code",
        "colab": {
          "base_uri": "https://localhost:8080/",
          "height": 1000
        },
        "outputId": "b97fd9d7-c5b2-4343-8e62-5f1b9266a792"
      },
      "source": [
        "result_vgg16 = new_model.fit(train_generator_vgg16,\n",
        "                       steps_per_epoch = 100,\n",
        "                       epochs =50,\n",
        "                       validation_data = validation_generator,\n",
        "                       validation_steps = 50)"
      ],
      "execution_count": null,
      "outputs": [
        {
          "output_type": "stream",
          "text": [
            "Epoch 1/50\n",
            "100/100 [==============================] - 25s 255ms/step - loss: 0.6136 - acc: 0.6640 - val_loss: 0.4621 - val_acc: 0.8210\n",
            "Epoch 2/50\n",
            "100/100 [==============================] - 25s 253ms/step - loss: 0.4952 - acc: 0.7705 - val_loss: 0.3799 - val_acc: 0.8600\n",
            "Epoch 3/50\n",
            "100/100 [==============================] - 25s 252ms/step - loss: 0.4271 - acc: 0.8165 - val_loss: 0.3346 - val_acc: 0.8660\n",
            "Epoch 4/50\n",
            "100/100 [==============================] - 25s 252ms/step - loss: 0.4076 - acc: 0.8165 - val_loss: 0.3462 - val_acc: 0.8480\n",
            "Epoch 5/50\n",
            "100/100 [==============================] - 25s 251ms/step - loss: 0.3847 - acc: 0.8290 - val_loss: 0.3040 - val_acc: 0.8760\n",
            "Epoch 6/50\n",
            "100/100 [==============================] - 25s 251ms/step - loss: 0.3748 - acc: 0.8425 - val_loss: 0.2853 - val_acc: 0.8830\n",
            "Epoch 7/50\n",
            "100/100 [==============================] - 25s 252ms/step - loss: 0.3584 - acc: 0.8470 - val_loss: 0.2756 - val_acc: 0.8840\n",
            "Epoch 8/50\n",
            "100/100 [==============================] - 25s 249ms/step - loss: 0.3340 - acc: 0.8630 - val_loss: 0.2730 - val_acc: 0.8860\n",
            "Epoch 9/50\n",
            "100/100 [==============================] - 25s 249ms/step - loss: 0.3398 - acc: 0.8605 - val_loss: 0.2799 - val_acc: 0.8810\n",
            "Epoch 10/50\n",
            "100/100 [==============================] - 25s 248ms/step - loss: 0.3255 - acc: 0.8560 - val_loss: 0.2663 - val_acc: 0.8930\n",
            "Epoch 11/50\n",
            "100/100 [==============================] - 25s 251ms/step - loss: 0.3331 - acc: 0.8530 - val_loss: 0.2642 - val_acc: 0.8920\n",
            "Epoch 12/50\n",
            "100/100 [==============================] - 25s 248ms/step - loss: 0.3254 - acc: 0.8580 - val_loss: 0.2597 - val_acc: 0.8960\n",
            "Epoch 13/50\n",
            "100/100 [==============================] - 25s 249ms/step - loss: 0.3271 - acc: 0.8575 - val_loss: 0.2564 - val_acc: 0.8960\n",
            "Epoch 14/50\n",
            "100/100 [==============================] - 25s 249ms/step - loss: 0.3140 - acc: 0.8620 - val_loss: 0.2621 - val_acc: 0.8900\n",
            "Epoch 15/50\n",
            "100/100 [==============================] - 25s 248ms/step - loss: 0.3142 - acc: 0.8590 - val_loss: 0.2520 - val_acc: 0.8960\n",
            "Epoch 16/50\n",
            "100/100 [==============================] - 25s 247ms/step - loss: 0.3124 - acc: 0.8750 - val_loss: 0.2504 - val_acc: 0.8970\n",
            "Epoch 17/50\n",
            "100/100 [==============================] - 25s 248ms/step - loss: 0.3128 - acc: 0.8550 - val_loss: 0.2484 - val_acc: 0.8970\n",
            "Epoch 18/50\n",
            "100/100 [==============================] - 25s 248ms/step - loss: 0.2973 - acc: 0.8655 - val_loss: 0.2482 - val_acc: 0.8960\n",
            "Epoch 19/50\n",
            "100/100 [==============================] - 25s 250ms/step - loss: 0.3099 - acc: 0.8630 - val_loss: 0.2465 - val_acc: 0.8980\n",
            "Epoch 20/50\n",
            "100/100 [==============================] - 25s 247ms/step - loss: 0.3032 - acc: 0.8745 - val_loss: 0.2476 - val_acc: 0.8970\n",
            "Epoch 21/50\n",
            "100/100 [==============================] - 25s 248ms/step - loss: 0.3025 - acc: 0.8735 - val_loss: 0.2430 - val_acc: 0.8950\n",
            "Epoch 22/50\n",
            "100/100 [==============================] - 25s 247ms/step - loss: 0.3000 - acc: 0.8790 - val_loss: 0.2497 - val_acc: 0.8990\n",
            "Epoch 23/50\n",
            "100/100 [==============================] - 25s 247ms/step - loss: 0.2905 - acc: 0.8715 - val_loss: 0.2434 - val_acc: 0.8980\n",
            "Epoch 24/50\n",
            "100/100 [==============================] - 25s 248ms/step - loss: 0.2814 - acc: 0.8725 - val_loss: 0.2424 - val_acc: 0.8940\n",
            "Epoch 25/50\n",
            "100/100 [==============================] - 25s 246ms/step - loss: 0.2965 - acc: 0.8760 - val_loss: 0.2412 - val_acc: 0.9030\n",
            "Epoch 26/50\n",
            "100/100 [==============================] - 25s 247ms/step - loss: 0.2963 - acc: 0.8635 - val_loss: 0.2523 - val_acc: 0.8960\n",
            "Epoch 27/50\n",
            "100/100 [==============================] - 25s 248ms/step - loss: 0.2910 - acc: 0.8645 - val_loss: 0.2379 - val_acc: 0.9060\n",
            "Epoch 28/50\n",
            "100/100 [==============================] - 25s 248ms/step - loss: 0.2894 - acc: 0.8710 - val_loss: 0.2416 - val_acc: 0.8990\n",
            "Epoch 29/50\n",
            "100/100 [==============================] - 25s 247ms/step - loss: 0.2822 - acc: 0.8800 - val_loss: 0.2364 - val_acc: 0.8990\n",
            "Epoch 30/50\n",
            "100/100 [==============================] - 24s 245ms/step - loss: 0.2863 - acc: 0.8735 - val_loss: 0.2372 - val_acc: 0.9000\n",
            "Epoch 31/50\n",
            "100/100 [==============================] - 25s 248ms/step - loss: 0.2869 - acc: 0.8800 - val_loss: 0.2379 - val_acc: 0.9020\n",
            "Epoch 32/50\n",
            "100/100 [==============================] - 25s 248ms/step - loss: 0.2862 - acc: 0.8740 - val_loss: 0.2386 - val_acc: 0.9010\n",
            "Epoch 33/50\n",
            "100/100 [==============================] - 25s 248ms/step - loss: 0.2795 - acc: 0.8855 - val_loss: 0.2384 - val_acc: 0.9020\n",
            "Epoch 34/50\n",
            "100/100 [==============================] - 25s 245ms/step - loss: 0.2649 - acc: 0.8855 - val_loss: 0.2402 - val_acc: 0.9020\n",
            "Epoch 35/50\n",
            "100/100 [==============================] - 25s 246ms/step - loss: 0.2798 - acc: 0.8870 - val_loss: 0.2365 - val_acc: 0.9050\n",
            "Epoch 36/50\n",
            "100/100 [==============================] - 25s 246ms/step - loss: 0.2987 - acc: 0.8630 - val_loss: 0.2388 - val_acc: 0.9040\n",
            "Epoch 37/50\n",
            "100/100 [==============================] - 25s 245ms/step - loss: 0.2788 - acc: 0.8785 - val_loss: 0.2368 - val_acc: 0.9080\n",
            "Epoch 38/50\n",
            "100/100 [==============================] - 25s 247ms/step - loss: 0.2645 - acc: 0.8910 - val_loss: 0.2412 - val_acc: 0.9060\n",
            "Epoch 39/50\n",
            "100/100 [==============================] - 25s 247ms/step - loss: 0.2707 - acc: 0.8865 - val_loss: 0.2385 - val_acc: 0.9030\n",
            "Epoch 40/50\n",
            "100/100 [==============================] - 25s 245ms/step - loss: 0.2815 - acc: 0.8800 - val_loss: 0.2488 - val_acc: 0.8940\n",
            "Epoch 41/50\n",
            "100/100 [==============================] - 25s 248ms/step - loss: 0.2657 - acc: 0.8850 - val_loss: 0.2384 - val_acc: 0.9040\n",
            "Epoch 42/50\n",
            "100/100 [==============================] - 25s 248ms/step - loss: 0.2685 - acc: 0.8795 - val_loss: 0.2384 - val_acc: 0.9050\n",
            "Epoch 43/50\n",
            "100/100 [==============================] - 25s 245ms/step - loss: 0.2820 - acc: 0.8755 - val_loss: 0.2339 - val_acc: 0.9050\n",
            "Epoch 44/50\n",
            "100/100 [==============================] - 25s 250ms/step - loss: 0.2662 - acc: 0.8935 - val_loss: 0.2356 - val_acc: 0.9040\n",
            "Epoch 45/50\n",
            "100/100 [==============================] - 25s 247ms/step - loss: 0.2552 - acc: 0.8910 - val_loss: 0.2386 - val_acc: 0.9040\n",
            "Epoch 46/50\n",
            "100/100 [==============================] - 25s 247ms/step - loss: 0.2578 - acc: 0.8910 - val_loss: 0.2365 - val_acc: 0.9070\n",
            "Epoch 47/50\n",
            "100/100 [==============================] - 25s 246ms/step - loss: 0.2680 - acc: 0.8810 - val_loss: 0.2357 - val_acc: 0.9050\n",
            "Epoch 48/50\n",
            "100/100 [==============================] - 25s 248ms/step - loss: 0.2604 - acc: 0.8890 - val_loss: 0.2344 - val_acc: 0.9050\n",
            "Epoch 49/50\n",
            "100/100 [==============================] - 25s 247ms/step - loss: 0.2638 - acc: 0.8885 - val_loss: 0.2373 - val_acc: 0.9050\n",
            "Epoch 50/50\n",
            "100/100 [==============================] - 25s 248ms/step - loss: 0.2677 - acc: 0.8845 - val_loss: 0.2465 - val_acc: 0.8990\n"
          ],
          "name": "stdout"
        }
      ]
    },
    {
      "cell_type": "code",
      "metadata": {
        "id": "FeWLkKzBRxm9",
        "colab_type": "code",
        "colab": {
          "base_uri": "https://localhost:8080/",
          "height": 541
        },
        "outputId": "530788bd-2efd-4856-f857-b26606aa6717"
      },
      "source": [
        "acc = result_vgg16.history['acc']\n",
        "loss = result_vgg16.history['loss']\n",
        "validation_acc = result_vgg16.history['val_acc']\n",
        "validation_loss = result_vgg16.history['val_loss']\n",
        "\n",
        "x = range(1,len(acc)+1)\n",
        "\n",
        "plt.plot(x,acc,'x-b',label = 'Training Accuracy')\n",
        "plt.plot(x,validation_acc,'o-m',label = 'Validation Accuracy')\n",
        "plt.xlabel('Epochs')\n",
        "plt.ylabel('Accuracy')\n",
        "plt.legend()\n",
        "plt.figure()\n",
        "plt.plot(x,loss,'x-b',label = 'Training Loss')\n",
        "plt.plot(x,validation_loss,'o-m',label = 'Validation Loss')\n",
        "plt.xlabel('Epochs')\n",
        "plt.ylabel('Loss')\n",
        "plt.legend()\n",
        "plt.show()"
      ],
      "execution_count": null,
      "outputs": [
        {
          "output_type": "display_data",
          "data": {
            "image/png": "[encoded data removed]",
            "text/plain": [
              "<Figure size 432x288 with 1 Axes>"
            ]
          },
          "metadata": {
            "tags": [],
            "needs_background": "light"
          }
        },
        {
          "output_type": "display_data",
          "data": {
            "image/png": "[encoded data removed]",
            "text/plain": [
              "<Figure size 432x288 with 1 Axes>"
            ]
          },
          "metadata": {
            "tags": [],
            "needs_background": "light"
          }
        }
      ]
    },
    {
      "cell_type": "markdown",
      "metadata": {
        "id": "u4rI0Ukkw-LA",
        "colab_type": "text"
      },
      "source": [
        "Our training accuracy reaches upto 88% while our validation accuracy reaches almost 90%. Similarly, our training loss is more than our validation loss for every epoch. That's unusual to see. \n",
        "\n",
        "Usually we see this when we apply regularization techniques to our model such as adding a dropout layer. The dropout layer gets applied to training images but not the validation images.\n",
        "\n",
        "But it is not the case here. It might be because the weights of VGG16 convolutional base recognise the patterns in validation images better than in the training images."
      ]
    },
    {
      "cell_type": "markdown",
      "metadata": {
        "id": "YpcAP1wCslKW",
        "colab_type": "text"
      },
      "source": [
        "#Fine Tuning\n",
        "Fine tuning consists of unfreezing a few of the top layers of the convolutional base and training those layers after our classifier has already been trained. If the classifier hasn't already been trained, the patterns learned by the layers being fine-tuned will be destroyed."
      ]
    },
    {
      "cell_type": "code",
      "metadata": {
        "id": "lxxfafiDU8Bb",
        "colab_type": "code",
        "colab": {}
      },
      "source": [
        "vgg16_base.trainable = True\n",
        "for layer in vgg16_base.layers:\n",
        "  if layer.name == 'block5_conv1':\n",
        "    break\n",
        "  layer.trainable = False"
      ],
      "execution_count": null,
      "outputs": []
    },
    {
      "cell_type": "code",
      "metadata": {
        "id": "oB1jk_e-t3lH",
        "colab_type": "code",
        "colab": {
          "base_uri": "https://localhost:8080/",
          "height": 799
        },
        "outputId": "a3306b62-447e-46cd-c93c-24a3d13b5466"
      },
      "source": [
        "vgg16_base.summary()"
      ],
      "execution_count": null,
      "outputs": [
        {
          "output_type": "stream",
          "text": [
            "Model: \"vgg16\"\n",
            "_________________________________________________________________\n",
            "Layer (type)                 Output Shape              Param #   \n",
            "=================================================================\n",
            "input_2 (InputLayer)         [(None, 150, 150, 3)]     0         \n",
            "_________________________________________________________________\n",
            "block1_conv1 (Conv2D)        (None, 150, 150, 64)      1792      \n",
            "_________________________________________________________________\n",
            "block1_conv2 (Conv2D)        (None, 150, 150, 64)      36928     \n",
            "_________________________________________________________________\n",
            "block1_pool (MaxPooling2D)   (None, 75, 75, 64)        0         \n",
            "_________________________________________________________________\n",
            "block2_conv1 (Conv2D)        (None, 75, 75, 128)       73856     \n",
            "_________________________________________________________________\n",
            "block2_conv2 (Conv2D)        (None, 75, 75, 128)       147584    \n",
            "_________________________________________________________________\n",
            "block2_pool (MaxPooling2D)   (None, 37, 37, 128)       0         \n",
            "_________________________________________________________________\n",
            "block3_conv1 (Conv2D)        (None, 37, 37, 256)       295168    \n",
            "_________________________________________________________________\n",
            "block3_conv2 (Conv2D)        (None, 37, 37, 256)       590080    \n",
            "_________________________________________________________________\n",
            "block3_conv3 (Conv2D)        (None, 37, 37, 256)       590080    \n",
            "_________________________________________________________________\n",
            "block3_pool (MaxPooling2D)   (None, 18, 18, 256)       0         \n",
            "_________________________________________________________________\n",
            "block4_conv1 (Conv2D)        (None, 18, 18, 512)       1180160   \n",
            "_________________________________________________________________\n",
            "block4_conv2 (Conv2D)        (None, 18, 18, 512)       2359808   \n",
            "_________________________________________________________________\n",
            "block4_conv3 (Conv2D)        (None, 18, 18, 512)       2359808   \n",
            "_________________________________________________________________\n",
            "block4_pool (MaxPooling2D)   (None, 9, 9, 512)         0         \n",
            "_________________________________________________________________\n",
            "block5_conv1 (Conv2D)        (None, 9, 9, 512)         2359808   \n",
            "_________________________________________________________________\n",
            "block5_conv2 (Conv2D)        (None, 9, 9, 512)         2359808   \n",
            "_________________________________________________________________\n",
            "block5_conv3 (Conv2D)        (None, 9, 9, 512)         2359808   \n",
            "_________________________________________________________________\n",
            "block5_pool (MaxPooling2D)   (None, 4, 4, 512)         0         \n",
            "=================================================================\n",
            "Total params: 14,714,688\n",
            "Trainable params: 7,079,424\n",
            "Non-trainable params: 7,635,264\n",
            "_________________________________________________________________\n"
          ],
          "name": "stdout"
        }
      ]
    },
    {
      "cell_type": "code",
      "metadata": {
        "id": "axDVVifht8wo",
        "colab_type": "code",
        "colab": {}
      },
      "source": [
        "new_model.compile(loss='binary_crossentropy',\n",
        "optimizer=optimizers.RMSprop(lr=1e-5),\n",
        "metrics='acc')"
      ],
      "execution_count": null,
      "outputs": []
    },
    {
      "cell_type": "code",
      "metadata": {
        "id": "nPXKc7n4u_-B",
        "colab_type": "code",
        "colab": {
          "base_uri": "https://localhost:8080/",
          "height": 717
        },
        "outputId": "5a7d59f6-8286-4443-b272-db2afaf16042"
      },
      "source": [
        "result_fine_tune = new_model.fit(train_generator_vgg16,\n",
        "                                 steps_per_epoch = 100,\n",
        "                                 epochs = 20,\n",
        "                                 validation_data = validation_generator,\n",
        "                                 validation_steps = 50)"
      ],
      "execution_count": null,
      "outputs": [
        {
          "output_type": "stream",
          "text": [
            "Epoch 1/20\n",
            "100/100 [==============================] - 27s 267ms/step - loss: 0.0556 - acc: 0.9815 - val_loss: 0.2204 - val_acc: 0.9360\n",
            "Epoch 2/20\n",
            "100/100 [==============================] - 26s 263ms/step - loss: 0.0478 - acc: 0.9820 - val_loss: 0.2324 - val_acc: 0.9350\n",
            "Epoch 3/20\n",
            "100/100 [==============================] - 26s 264ms/step - loss: 0.0542 - acc: 0.9800 - val_loss: 0.2066 - val_acc: 0.9410\n",
            "Epoch 4/20\n",
            "100/100 [==============================] - 26s 264ms/step - loss: 0.0378 - acc: 0.9855 - val_loss: 0.1956 - val_acc: 0.9430\n",
            "Epoch 5/20\n",
            "100/100 [==============================] - 26s 263ms/step - loss: 0.0381 - acc: 0.9850 - val_loss: 0.2800 - val_acc: 0.9310\n",
            "Epoch 6/20\n",
            "100/100 [==============================] - 26s 263ms/step - loss: 0.0521 - acc: 0.9835 - val_loss: 0.2478 - val_acc: 0.9310\n",
            "Epoch 7/20\n",
            "100/100 [==============================] - 26s 262ms/step - loss: 0.0442 - acc: 0.9865 - val_loss: 0.1989 - val_acc: 0.9390\n",
            "Epoch 8/20\n",
            "100/100 [==============================] - 26s 262ms/step - loss: 0.0334 - acc: 0.9850 - val_loss: 0.3494 - val_acc: 0.9180\n",
            "Epoch 9/20\n",
            "100/100 [==============================] - 26s 261ms/step - loss: 0.0416 - acc: 0.9830 - val_loss: 0.2236 - val_acc: 0.9410\n",
            "Epoch 10/20\n",
            "100/100 [==============================] - 26s 260ms/step - loss: 0.0432 - acc: 0.9830 - val_loss: 0.2733 - val_acc: 0.9310\n",
            "Epoch 11/20\n",
            "100/100 [==============================] - 26s 261ms/step - loss: 0.0441 - acc: 0.9830 - val_loss: 0.2346 - val_acc: 0.9330\n",
            "Epoch 12/20\n",
            "100/100 [==============================] - 26s 260ms/step - loss: 0.0319 - acc: 0.9885 - val_loss: 0.2244 - val_acc: 0.9380\n",
            "Epoch 13/20\n",
            "100/100 [==============================] - 26s 260ms/step - loss: 0.0471 - acc: 0.9855 - val_loss: 0.2481 - val_acc: 0.9280\n",
            "Epoch 14/20\n",
            "100/100 [==============================] - 26s 259ms/step - loss: 0.0289 - acc: 0.9890 - val_loss: 0.2017 - val_acc: 0.9410\n",
            "Epoch 15/20\n",
            "100/100 [==============================] - 26s 260ms/step - loss: 0.0407 - acc: 0.9885 - val_loss: 0.2198 - val_acc: 0.9390\n",
            "Epoch 16/20\n",
            "100/100 [==============================] - 26s 260ms/step - loss: 0.0371 - acc: 0.9875 - val_loss: 0.3036 - val_acc: 0.9260\n",
            "Epoch 17/20\n",
            "100/100 [==============================] - 26s 259ms/step - loss: 0.0255 - acc: 0.9880 - val_loss: 0.2149 - val_acc: 0.9400\n",
            "Epoch 18/20\n",
            "100/100 [==============================] - 26s 259ms/step - loss: 0.0377 - acc: 0.9845 - val_loss: 0.2448 - val_acc: 0.9350\n",
            "Epoch 19/20\n",
            "100/100 [==============================] - 26s 261ms/step - loss: 0.0327 - acc: 0.9890 - val_loss: 0.2237 - val_acc: 0.9340\n",
            "Epoch 20/20\n",
            "100/100 [==============================] - 26s 261ms/step - loss: 0.0352 - acc: 0.9865 - val_loss: 0.2103 - val_acc: 0.9410\n"
          ],
          "name": "stdout"
        }
      ]
    },
    {
      "cell_type": "code",
      "metadata": {
        "id": "U8uYKE8Evdol",
        "colab_type": "code",
        "colab": {
          "base_uri": "https://localhost:8080/",
          "height": 541
        },
        "outputId": "cc59f363-c1a5-4bf4-d42b-ac5542994ccf"
      },
      "source": [
        "acc = result_fine_tune.history['acc']\n",
        "loss = result_fine_tune.history['loss']\n",
        "validation_acc = result_fine_tune.history['val_acc']\n",
        "validation_loss = result_fine_tune.history['val_loss']\n",
        "\n",
        "x = range(1,len(acc)+1)\n",
        "\n",
        "plt.plot(x,acc,'x-b',label = 'Training Accuracy')\n",
        "plt.plot(x,validation_acc,'o-m',label = 'Validation Accuracy')\n",
        "plt.xlabel('Epochs')\n",
        "plt.ylabel('Accuracy')\n",
        "plt.legend()\n",
        "plt.figure()\n",
        "plt.plot(x,loss,'x-b',label = 'Training Loss')\n",
        "plt.plot(x,validation_loss,'o-m',label = 'Validation Loss')\n",
        "plt.xlabel('Epochs')\n",
        "plt.ylabel('Loss')\n",
        "plt.legend()\n",
        "plt.show()"
      ],
      "execution_count": null,
      "outputs": [
        {
          "output_type": "display_data",
          "data": {
            "image/png": "[encoded data removed]",
            "text/plain": [
              "<Figure size 432x288 with 1 Axes>"
            ]
          },
          "metadata": {
            "tags": [],
            "needs_background": "light"
          }
        },
        {
          "output_type": "display_data",
          "data": {
            "image/png": "[encoded data removed]",
            "text/plain": [
              "<Figure size 432x288 with 1 Axes>"
            ]
          },
          "metadata": {
            "tags": [],
            "needs_background": "light"
          }
        }
      ]
    },
    {
      "cell_type": "markdown",
      "metadata": {
        "id": "HYEBwSSr4Hlc",
        "colab_type": "text"
      },
      "source": [
        "As we can see, our validation accuracy has increased to almost 94% by fine-tuning our model. This is a really good accuracy considering we are working with only 2000 training images. There is still overfitting a lot of room to improve our model but for now, let's test this model on completely unseen data. "
      ]
    },
    {
      "cell_type": "code",
      "metadata": {
        "id": "kcKJqSmu4Y-7",
        "colab_type": "code",
        "colab": {
          "base_uri": "https://localhost:8080/",
          "height": 34
        },
        "outputId": "6e5b1434-fe86-4a6a-8919-02e430857f91"
      },
      "source": [
        "test_generator = datagen.flow_from_directory(\n",
        "test_directory,\n",
        "target_size=(150, 150),\n",
        "batch_size = 25,\n",
        "class_mode='binary')"
      ],
      "execution_count": null,
      "outputs": [
        {
          "output_type": "stream",
          "text": [
            "Found 1000 images belonging to 2 classes.\n"
          ],
          "name": "stdout"
        }
      ]
    },
    {
      "cell_type": "code",
      "metadata": {
        "id": "V8lunnJ54a8n",
        "colab_type": "code",
        "colab": {
          "base_uri": "https://localhost:8080/",
          "height": 51
        },
        "outputId": "6e9c91b5-1d2a-41d7-d536-d3f84af54fb0"
      },
      "source": [
        "test_loss, test_accuracy = new_model.evaluate(test_generator, steps=40)\n",
        "print('test accuracy: ' + str(test_accuracy*100) + '%')"
      ],
      "execution_count": null,
      "outputs": [
        {
          "output_type": "stream",
          "text": [
            "40/40 [==============================] - 5s 119ms/step - loss: 0.2695 - acc: 0.9400\n",
            "test accuracy: 93.99999976158142%\n"
          ],
          "name": "stdout"
        }
      ]
    },
    {
      "cell_type": "markdown",
      "metadata": {
        "id": "-c6wvAQQH6ce",
        "colab_type": "text"
      },
      "source": [
        "We get an accuracy of almost 94% on our test sample. "
      ]
    },
    {
      "cell_type": "markdown",
      "metadata": {
        "id": "HEMgn3slIBnz",
        "colab_type": "text"
      },
      "source": [
        "Try out the model by uploading cat or dog images from your local machine by running the next two cells."
      ]
    },
    {
      "cell_type": "code",
      "metadata": {
        "id": "6XeoTU19D572",
        "colab_type": "code",
        "colab": {}
      },
      "source": [
        "if os.getcwd() != '/content':\n",
        "  os.chdir('/content')"
      ],
      "execution_count": null,
      "outputs": []
    },
    {
      "cell_type": "code",
      "metadata": {
        "id": "Iwcpo0ym4hby",
        "colab_type": "code",
        "colab": {
          "resources": {
            "http://localhost:8080/nbextensions/google.colab/files.js": {
              "data": "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",
              "ok": true,
              "headers": [
                [
                  "content-type",
                  "application/javascript"
                ]
              ],
              "status": 200,
              "status_text": ""
            }
          },
          "base_uri": "https://localhost:8080/",
          "height": 89
        },
        "outputId": "a279c0c7-84d7-4e94-a85a-9aec5ebd3a36"
      },
      "source": [
        "\n",
        "import numpy as np\n",
        "from google.colab import files\n",
        "from keras.preprocessing import image\n",
        "\n",
        "uploaded = files.upload()\n",
        "\n",
        "for fn in uploaded.keys():\n",
        "  path = '/content/' + fn\n",
        "  img = image.load_img(path, target_size=(150, 150))\n",
        "  x = image.img_to_array(img)\n",
        "  x = np.expand_dims(x, axis=0)\n",
        "  images = np.vstack([x])\n",
        "  probability = new_model.predict(images, batch_size=10)\n",
        "  if probability > 0.5:\n",
        "    print('Image is of a dog.')\n",
        "  elif probability < 0.5:\n",
        "    print('Image is of a cat.')\n",
        "  else:\n",
        "    print('Image is ambiguous. ')\n",
        "  os.remove(path)"
      ],
      "execution_count": null,
      "outputs": [
        {
          "output_type": "display_data",
          "data": {
            "text/html": [
              "\n",
              "     <input type=\"file\" id=\"files-afcfeae4-1ed3-424b-8d21-a54769347c27\" name=\"files[]\" multiple disabled\n",
              "        style=\"border:none\" />\n",
              "     <output id=\"result-afcfeae4-1ed3-424b-8d21-a54769347c27\">\n",
              "      Upload widget is only available when the cell has been executed in the\n",
              "      current browser session. Please rerun this cell to enable.\n",
              "      </output>\n",
              "      <script src=\"/nbextensions/google.colab/files.js\"></script> "
            ],
            "text/plain": [
              "<IPython.core.display.HTML object>"
            ]
          },
          "metadata": {
            "tags": []
          }
        },
        {
          "output_type": "stream",
          "text": [
            "Saving 28.jpg to 28.jpg\n",
            "Image is of a cat.\n"
          ],
          "name": "stdout"
        }
      ]
    }
  ]
}